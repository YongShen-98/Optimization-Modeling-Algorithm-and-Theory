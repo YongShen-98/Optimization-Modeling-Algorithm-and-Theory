{
 "cells": [
  {
   "attachments": {},
   "cell_type": "markdown",
   "metadata": {},
   "source": [
    "### 非线性最小二乘问题"
   ]
  },
  {
   "attachments": {},
   "cell_type": "markdown",
   "metadata": {},
   "source": [
    "非线性最小二乘法的一般形式：\n",
    "$$f(x) = \\frac{1}{2}\\sum_{j=1}^{m}r_{j}^2(x)$$\n",
    "写成矩阵形式: $f(x)=\\frac{1}{2}||r(x)||^2_2$, 对于这种无约束问题, 前面介绍的任何一种无约束算法都可以解决它, 我们直接给出它的梯度和海瑟矩阵.\n",
    "$$\\nabla f(x) = J(x)^T r(x) \\\\\n",
    "\\nabla^2f(x)=J(x)^TJ(x)+\\sum_{i=1}^{m}r_{i}(x)\\nabla^2r_{i}(x)$$\n",
    "其中$J(x)$是向量值函数$r(x)$在$x$处的雅克比矩阵。"
   ]
  },
  {
   "attachments": {},
   "cell_type": "markdown",
   "metadata": {},
   "source": [
    "### 高斯——牛顿算法\n",
    "该算法直接使用$J(x)^{T}J(x)$作为海瑟矩阵的近似矩阵, 该算法产生的下降方向$d^{k}$满足\n",
    "$$(J^k)^TJ^kd^k=-(J^k)^Tr^k$$\n"
   ]
  },
  {
   "attachments": {},
   "cell_type": "markdown",
   "metadata": {},
   "source": [
    "![](1.png)"
   ]
  },
  {
   "attachments": {},
   "cell_type": "markdown",
   "metadata": {},
   "source": [
    "### Levenberg-Marquardt方法"
   ]
  },
  {
   "attachments": {},
   "cell_type": "markdown",
   "metadata": {},
   "source": [
    "#### 信頼域型LM方法\n",
    "主要应用的场合是$(J^k)^TJ^k$奇异时，它仍然可以给出一个下降方向，LM方法每一步求解如下子问题：\n",
    "$$\\min_{d}\\quad \\frac{1}{2}||J^k+r^k||^2,\\quad s.t. \\quad ||d||\\leq\\Delta_K$$\n",
    "事实上，LM方法将如下近似当做信頼域方法中的$m_k$：\n",
    "$$m_{k}(d) = \\frac{1}{2}||r^k||^2+d^T(J^k)^Tr^k+\\frac{1}{2}d^T(J^k)^TJ^kd$$"
   ]
  },
  {
   "attachments": {},
   "cell_type": "markdown",
   "metadata": {},
   "source": [
    "#### LMF方法\n",
    "每一步求解子问题：\n",
    "$$\\min_{d}\\quad\\frac{1}{2}||Jd+r||^2_2+ \\lambda ||d||^2_2$$"
   ]
  },
  {
   "attachments": {},
   "cell_type": "markdown",
   "metadata": {},
   "source": [
    "设第$k$步产生的迭代方向为$d^k$，我们需要计算目标函数的预估下降量和实际下降量的比值$\\rho_k$，来确定下一步信頼域半径的大小。这一比值可以通过\n",
    "$$\\rho_k = \\frac{f(x^k)-f(x^k+d^k)}{m_{k}(0)-m_{k}(d^{k})}$$\n",
    "计算得到。然后根据$\\rho_k$的大小来更新$\\lambda_k$，当乘子$\\lambda_k$增大时，信頼域半径会变小，反之亦然。"
   ]
  },
  {
   "attachments": {},
   "cell_type": "markdown",
   "metadata": {},
   "source": [
    "![](2.png)"
   ]
  },
  {
   "attachments": {},
   "cell_type": "markdown",
   "metadata": {},
   "source": [
    "### 应用举例\n",
    "问题模型为：\n",
    "$$\\min_{x\\in C^n}\\quad f(x)=\\frac{1}{2}\\sum_{j=1}^{m}(|\\bar{a}_{j}^Tx|^2-b_j)^2$$"
   ]
  }
 ],
 "metadata": {
  "language_info": {
   "name": "python"
  },
  "orig_nbformat": 4
 },
 "nbformat": 4,
 "nbformat_minor": 2
}
