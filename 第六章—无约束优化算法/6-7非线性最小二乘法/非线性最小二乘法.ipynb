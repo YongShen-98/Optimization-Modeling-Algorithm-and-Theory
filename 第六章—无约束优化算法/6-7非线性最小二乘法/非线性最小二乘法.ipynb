{
 "cells": [
  {
   "attachments": {},
   "cell_type": "markdown",
   "metadata": {},
   "source": [
    "### 非线性最小二乘问题"
   ]
  },
  {
   "attachments": {},
   "cell_type": "markdown",
   "metadata": {},
   "source": [
    "非线性最小二乘法的一般形式：\n",
    "$$f(x) = \\frac{1}{2}\\sum_{j=1}^{m}r_{j}^2(x)$$\n",
    "写成矩阵形式: $f(x)=\\frac{1}{2}||r(x)||^2_2$, 对于这种无约束问题, 前面介绍的任何一种无约束算法都可以解决它, 我们直接给出它的梯度和海瑟矩阵.\n",
    "$$\\nabla f(x) = J(x)^T r(x) \\\\\n",
    "\\nabla^2f(x)=J(x)^TJ(x)+\\sum_{i=1}^{m}r_{i}(x)\\nabla^2r_{i}(x)$$\n",
    "其中$J(x)$是向量值函数$r(x)$在$x$处的雅克比矩阵。"
   ]
  },
  {
   "attachments": {},
   "cell_type": "markdown",
   "metadata": {},
   "source": [
    "### 高斯——牛顿算法\n",
    "该算法直接使用$J(x)^{T}J(x)$作为海瑟矩阵的近似矩阵, 该算法产生的下降方向$d^{k}$满足\n",
    "$$(J^k)^TJ^kd^k=-(J^k)^Tr^k$$\n",
    "使用QR法解这个方程得到下降方向. "
   ]
  },
  {
   "attachments": {},
   "cell_type": "markdown",
   "metadata": {},
   "source": [
    "![](1.png)"
   ]
  },
  {
   "attachments": {},
   "cell_type": "markdown",
   "metadata": {},
   "source": [
    "### Levenberg-Marquardt方法"
   ]
  },
  {
   "attachments": {},
   "cell_type": "markdown",
   "metadata": {},
   "source": [
    "#### 信頼域型LM方法\n",
    "主要应用的场合是$(J^k)^TJ^k$奇异时，它仍然可以给出一个下降方向，LM方法每一步求解如下子问题：\n",
    "$$\\min_{d}\\quad \\frac{1}{2}||J^k+r^k||^2,\\quad s.t. \\quad ||d||\\leq\\Delta_K$$\n",
    "事实上，LM方法将如下近似当做信頼域方法中的$m_k$：\n",
    "$$m_{k}(d) = \\frac{1}{2}||r^k||^2+d^T(J^k)^Tr^k+\\frac{1}{2}d^T(J^k)^TJ^kd$$"
   ]
  },
  {
   "attachments": {},
   "cell_type": "markdown",
   "metadata": {},
   "source": [
    "#### LMF方法\n",
    "每一步求解子问题：\n",
    "$$\\min_{d}\\quad\\frac{1}{2}||Jd+r||^2_2+ \\lambda ||d||^2_2$$"
   ]
  },
  {
   "attachments": {},
   "cell_type": "markdown",
   "metadata": {},
   "source": [
    "设第$k$步产生的迭代方向为$d^k$，我们需要计算目标函数的预估下降量和实际下降量的比值$\\rho_k$，来确定下一步信頼域半径的大小。这一比值可以通过\n",
    "$$\\rho_k = \\frac{f(x^k)-f(x^k+d^k)}{m_{k}(0)-m_{k}(d^{k})}$$\n",
    "计算得到。然后根据$\\rho_k$的大小来更新$\\lambda_k$，当乘子$\\lambda_k$增大时，信頼域半径会变小，反之亦然。"
   ]
  },
  {
   "attachments": {},
   "cell_type": "markdown",
   "metadata": {},
   "source": [
    "![](2.png)"
   ]
  },
  {
   "attachments": {},
   "cell_type": "markdown",
   "metadata": {},
   "source": [
    "### 应用举例\n",
    "问题模型为：\n",
    "$$\\min_{x\\in C^n}\\quad f(x)=\\frac{1}{2}\\sum_{j=1}^{m}(|\\bar{a}_{j}^Tx|^2-b_j)^2$$"
   ]
  },
  {
   "cell_type": "code",
   "execution_count": 117,
   "metadata": {},
   "outputs": [],
   "source": [
    "import numpy as np\n",
    "from scipy import linalg\n",
    "\n",
    "m = 10            # the amount of samples\n",
    "n = 5             # the dim of sample   \n",
    "\n",
    "A = np.random.randint(1,10, (m,n))\n",
    "b = np.random.randint(1,10, m)\n",
    "\n",
    "\n",
    "def sum_f(x):\n",
    "    s = 0\n",
    "    for i in range(m):\n",
    "        s += ((A[i] @ x)**2 - b[i])**2\n",
    "    return s\n",
    "f = lambda x: (1/2) * sum_f(x)\n",
    "\n",
    "def sum_grad_f(x):\n",
    "    s = 0\n",
    "    for i in range(m):\n",
    "        s += ((A[i] @ x)**2 -b[i]) * A[i] * (A[i] @ x)\n",
    "    return s\n",
    "grad_f = lambda x: sum_grad_f(x)\n",
    "\n",
    "r = lambda x: (A @ x)**2 - b\n",
    "\n",
    "def j(x):\n",
    "    j = np.ones((m,n))\n",
    "    for i in range(m):\n",
    "        j[i] = j[i]*((A@x)[i])\n",
    "    return j\n",
    "J = lambda x: 2*A*j(x)\n",
    "\n",
    "M = lambda x,d: 0.5 * np.dot(r(x),r(x)) + np.dot(d, np.transpose(J(x))@r(x)) + 0.5 * np.dot(J(x)@d, J(x)@d)"
   ]
  },
  {
   "attachments": {},
   "cell_type": "markdown",
   "metadata": {},
   "source": [
    "$\\nabla f(x)$那里感觉等式右边的系数应该有一个$2$的。"
   ]
  },
  {
   "cell_type": "code",
   "execution_count": 124,
   "metadata": {},
   "outputs": [],
   "source": [
    "class nonlinear:\n",
    "    def __init__(self, f, grad_f, r, J, step) -> None:\n",
    "        self.f = f\n",
    "        self.grad_f = grad_f\n",
    "        self.step = step\n",
    "        self.r = r\n",
    "        self.J = J\n",
    "    \n",
    "    def Gauss_Newton(self):\n",
    "        result = np.zeros(self.step)\n",
    "        x = np.linspace(1, 10, n)\n",
    "        for i in range(self.step):\n",
    "            Q,R = linalg.qr(J(x))\n",
    "            d = np.linalg.solve(np.transpose(R)@R, -np.transpose(Q@R)@r(x))\n",
    "            alpha = 0.1   ## For simplicity, fix the size of step \n",
    "            x_next = x + alpha*d\n",
    "            x = x_next\n",
    "            result[i] = self.f(x)\n",
    "        return result, x\n",
    "    \n",
    "    def LMF(self):\n",
    "        result = np.zeros(self.step)\n",
    "        x = np.linspace(1,10,n)\n",
    "        Lambda = 1\n",
    "        eta = 0.1\n",
    "        rho1 = 0.25\n",
    "        rho2 = 0.75\n",
    "        gamma1 = 0.25\n",
    "        gamma2 = 2\n",
    "        for i in range(self.step):\n",
    "            A = np.transpose(J(x))@J(x)+Lambda * np.eye(n)\n",
    "            b = -np.transpose(J(x))@r(x)\n",
    "            d = np.linalg.solve(A, b)\n",
    "            rho = (self.f(x) - self.f(x+d))/(M(x,np.zeros(n)) - M(x,d))\n",
    "            if (rho < rho1):\n",
    "                Lambda = gamma2 * Lambda\n",
    "            elif(rho > rho2):\n",
    "                Lambda = gamma1 * Lambda\n",
    "            if (rho > eta):\n",
    "                x += d\n",
    "            else:\n",
    "                x = x\n",
    "            result[i] = self.f(x)\n",
    "        return result, x\n"
   ]
  },
  {
   "cell_type": "code",
   "execution_count": 137,
   "metadata": {},
   "outputs": [],
   "source": [
    "Step = 100\n",
    "sol = nonlinear(f,grad_f,r,J,Step)\n",
    "result_Gauss_Newton = sol.Gauss_Newton()\n",
    "result_LMF = sol.LMF()\n",
    "import matplotlib.pyplot as plt\n",
    "step = np.linspace(1, Step, Step)"
   ]
  },
  {
   "attachments": {},
   "cell_type": "markdown",
   "metadata": {},
   "source": [
    "先看LMF算法的效果图"
   ]
  },
  {
   "cell_type": "code",
   "execution_count": 139,
   "metadata": {},
   "outputs": [
    {
     "data": {
      "text/plain": [
       "[<matplotlib.lines.Line2D at 0x1e7af877760>]"
      ]
     },
     "execution_count": 139,
     "metadata": {},
     "output_type": "execute_result"
    },
    {
     "data": {
      "image/png": "[encoded data removed]",
      "text/plain": [
       "<Figure size 640x480 with 1 Axes>"
      ]
     },
     "metadata": {},
     "output_type": "display_data"
    }
   ],
   "source": [
    "plt.plot(step, result_LMF[0])"
   ]
  },
  {
   "attachments": {},
   "cell_type": "markdown",
   "metadata": {},
   "source": [
    "接下来是高斯牛顿算法的效果图"
   ]
  },
  {
   "cell_type": "code",
   "execution_count": 140,
   "metadata": {},
   "outputs": [
    {
     "data": {
      "text/plain": [
       "[<matplotlib.lines.Line2D at 0x1e7af8cfc40>]"
      ]
     },
     "execution_count": 140,
     "metadata": {},
     "output_type": "execute_result"
    },
    {
     "data": {
      "image/png": "[encoded data removed]",
      "text/plain": [
       "<Figure size 640x480 with 1 Axes>"
      ]
     },
     "metadata": {},
     "output_type": "display_data"
    }
   ],
   "source": [
    "plt.plot(step, result_Gauss_Newton[0])"
   ]
  }
 ],
 "metadata": {
  "kernelspec": {
   "display_name": "new",
   "language": "python",
   "name": "python3"
  },
  "language_info": {
   "codemirror_mode": {
    "name": "ipython",
    "version": 3
   },
   "file_extension": ".py",
   "mimetype": "text/x-python",
   "name": "python",
   "nbconvert_exporter": "python",
   "pygments_lexer": "ipython3",
   "version": "3.10.6"
  },
  "orig_nbformat": 4
 },
 "nbformat": 4,
 "nbformat_minor": 2
}
