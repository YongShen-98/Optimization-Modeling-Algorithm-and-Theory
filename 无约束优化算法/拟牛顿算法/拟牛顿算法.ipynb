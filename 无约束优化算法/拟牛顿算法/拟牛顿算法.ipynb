{
 "cells": [
  {
   "attachments": {},
   "cell_type": "markdown",
   "metadata": {},
   "source": [
    "拟牛顿方法不计算海瑟矩阵$\\nabla^2f(x)$, 而是构造其近似矩阵$B^k$或者其逆的近似矩阵$H^k$. 我们希望$B^k$或者$H^k$保留了一些海瑟矩阵的性质, 例如使得$d^k$仍然为下降方向."
   ]
  },
  {
   "attachments": {},
   "cell_type": "markdown",
   "metadata": {},
   "source": [
    "### 割线方程\n",
    "设$f(x)$是二次可微的, 向量值函数$\\nabla f(x)$在点$x^{k+1}$处的近似为：\n",
    "$$\\nabla f(x)=\\nabla f(x^{k+1})+\\nabla^2f(x^{k+1})(x-x^{k+1})+O(||x-x^{k+1}||^2)$$\n",
    "令 $x = x^k, s^k = x^{k+1} − x^k$ 及 $y^k = \\nabla f(x^{k+1})− \\nabla f(x^k)$, 得到\n",
    "$$\\nabla^2f(x^{k+1})s^k+O(||s^k||^2)=y^k$$\n",
    "不考虑高阶项的时候, 我们可以得到海瑟矩阵的近似$B^{k+1}$满足：\n",
    "$$y^{k}=B^{k+1}s^{k}\\tag{1}$$\n",
    "或者其逆矩阵的近似矩阵$H^{k+1}$:\n",
    "$$s^{k}=H^{k+1}y^k\\tag{2}$$\n",
    "我们得到的近似矩阵$B^k$仍然需要保证它是正定的！对其两边同时左乘$(s^k)^T$得到$(s^k)^Ty^{k}=(s^k)^TB^{k+1}s^{k}$, 从而有条件:\n",
    "$$(s^k)^Ty^{k}>0\\tag{3}$$\n",
    "对于一般的目标函数, 采取Wolfe准则就会保证曲率条件(3)成立！理由：\n",
    "$$\\nabla f(x^{k+1})^Ts^k\\geq c_2\\nabla f(x^k)^Ts^k\\\\\n",
    "(y^k)^Ts^k\\geq(c_2-1)\\nabla f(x^{k})^Ts^k>0$$\n",
    "这是因为$c_2<1$并且$s^k=\\alpha_kd^k$是下降方向."
   ]
  },
  {
   "attachments": {},
   "cell_type": "markdown",
   "metadata": {},
   "source": [
    "### 一般框架 \n",
    "![](1.png)"
   ]
  },
  {
   "attachments": {},
   "cell_type": "markdown",
   "metadata": {},
   "source": [
    "### BFGS 公式\n",
    "我们这样计算近似矩阵,设$B^{k+1}=B^{k}+auu^{T}+bvv^T$, 其中$a,b\\in R$待定, 根据割线方程(1):\n",
    "$$B^{k+1}s^{k}=y^k=(B^{k}+auu^{T}+bvv^T)s^k$$\n",
    "整理一下就有：$$(au^Ts^k)u+(bv^Ts^T)v=y^k-B^ks^k$$\n",
    "直接让两边系数相等就可以得到$u,v,a,b$的公式了, 然后就可以得到$B^k$到$B^{k+1}$的更新公式\n",
    "$$B^{k+1}=B^{k}+\\frac{y^{k}(y^{k})^T}{(s^k)^Ty^k}-\\frac{B^ks^k(B^ks^k)^T}{(s^k)^TB^ks^k}.\\tag{4}$$\n",
    "在问题求解过程中，条件(3) 不一定会得到满足，此时应该使用 Wolfe 准则的线搜索来迫使条件(3)成立. 我们根据这个式子并且假设$H^k=(B^k)^{-1}$可以得到：\n",
    "$$H^{k+1}=(1-\\rho_ky^k(s^k)^T)^TH^k(I-\\rho_ky^k(s^k)^T)+\\rho_ks^k(s^k)^T\\tag{5}$$\n",
    "其中$\\rho_k=\\frac{1}{(s^k)^Ty^k}$\n",
    "### 有限内存的BFGS公式\n",
    "首先我们引入新的记号去表示$H^{k}$的更新公式：\n",
    "$$H^{k+1}=(V^k)^TH^kV^k+\\rho_ks^k(s^k)^T,\\tag{6}$$\n",
    "其中\n",
    "$$\\rho_k=\\frac{1}{(y^k)^Ts^k},\\quad V^k=I-\\rho_ky^k(s^k)^T$$\n",
    "更新(6)式可以发现它有递归的特点, 于是我们可以展开$m$次\n",
    "![](2.png)\n",
    "\n"
   ]
  },
  {
   "attachments": {},
   "cell_type": "markdown",
   "metadata": {},
   "source": [
    "很明显$H^{k-m}$还是无法显示求出来, 这个式子也不能无限展开. 我们只用一个近似的$H^{k-m}$去近似$H^{k-m}$, 这样这个式子就方便计算了. 这里给出一个算法.\n",
    "$H^{k-m}$的近似矩阵可以取成$\\gamma_k I$, 其中\n",
    "$$\\gamma_k=\\frac{(s^{k-1})^{T}y^{k-1}}{(y^{k-1})^Ty^{k-1}}$$"
   ]
  },
  {
   "attachments": {},
   "cell_type": "markdown",
   "metadata": {},
   "source": [
    "![](2.png)"
   ]
  },
  {
   "attachments": {},
   "cell_type": "markdown",
   "metadata": {},
   "source": [
    "很明显$H^{k-m}$还是无法显示求出来, 这个式子也不能无限展开. 我们只用一个近似的$H^{k-m}$去近似$H^{k-m}$, 这样这个式子就方便计算了. 这里给出一个算法.\n",
    "$H^{k-m}$的近似矩阵可以取成$\\gamma_k I$, 其中\n",
    "$$\\gamma_k=\\frac{(s^{k-1})^{T}y^{k-1}}{(y^{k-1})^Ty^{k-1}}$$"
   ]
  },
  {
   "attachments": {},
   "cell_type": "markdown",
   "metadata": {},
   "source": [
    "![](3.png)\n",
    "![](4.png)"
   ]
  },
  {
   "attachments": {},
   "cell_type": "markdown",
   "metadata": {},
   "source": [
    "### 应用举例\n",
    "#### 逻辑回归问题\n",
    "$$\\min_{x\\in R^n} l(x)= \\frac{1}{m}\\sum_{i=1}^{m}ln(1+exp(-b_ia_i^Tx))+\\lambda||x||_2^2$$\n"
   ]
  },
  {
   "cell_type": "code",
   "execution_count": 2,
   "metadata": {},
   "outputs": [],
   "source": [
    "import numpy as np\n",
    "import matplotlib.pyplot as plt"
   ]
  },
  {
   "cell_type": "code",
   "execution_count": 3,
   "metadata": {},
   "outputs": [],
   "source": [
    "m = 5\n",
    "n = 5\n",
    "A = np.random.randint(0, 10, (m,n))\n",
    "B = np.random.randint(0, 10, m)\n",
    "Lambda = 1/(100*m)\n",
    "\n",
    "def sum(x):\n",
    "    s = 0\n",
    "    for i in range(m):\n",
    "        s += np.log(1+np.exp(-B[i]*A[i]@x))\n",
    "    return s\n",
    "f = lambda x : (1/m)*sum(x) + Lambda*x@x\n",
    "\n",
    "def grad_sum(x):\n",
    "    s = 0\n",
    "    for i in range(m):\n",
    "        s += (1 - 1/(1+np.exp(-B[i]*A[i]@x))) * B[i] * A[i]\n",
    "    return s\n",
    "grad_f = lambda x : -(1/m)*grad_sum(x) + 2*Lambda*x"
   ]
  },
  {
   "cell_type": "code",
   "execution_count": 4,
   "metadata": {},
   "outputs": [],
   "source": [
    "class quasi_Newton_method():\n",
    "    def __init__(self, f, grad_f, step):\n",
    "        self.f = f\n",
    "        self.grad_f = grad_f\n",
    "        self.step = step\n",
    "    ## Wolfe criterion\n",
    "    def Wolfe(self, x, d):\n",
    "        alpha = 1\n",
    "        while self.f(x + alpha * d) > self.f(x) + 0.1 * alpha * self.grad_f(x)@d or self.grad_f(x + alpha * d)@d < 0.9 * self.grad_f(x)@d:\n",
    "            alpha = 0.5 * alpha\n",
    "            if alpha < 0.01:\n",
    "                break\n",
    "        return alpha\n",
    "    ## SR1 iteration scheme\n",
    "    def SR1(self, s, y, H):\n",
    "        H += ((s - H@y) @ (s - H@y)) / ((s - H@y)@y)\n",
    "        return H\n",
    "    ## BFGS method\n",
    "    def BFGS(self, s, y, H):\n",
    "        rho = 1/(s@y)\n",
    "        H = np.transpose(np.eye(m) - rho * np.outer(s,y))@H@(np.eye(m) - rho * np.outer(s,y)) + rho * s@s\n",
    "        return H\n",
    "    ## quasi Newton method by SR1\n",
    "    def solve(self):\n",
    "        ## init x_0 and H_0 (or B_0)\n",
    "        H = np.eye(m)\n",
    "        x = np.linspace(1,10,m)\n",
    "        # init the result of this method\n",
    "        result = np.zeros(self.step) \n",
    "        for k in range(self.step):\n",
    "            # calculate the k step's direction\n",
    "            d = -(H@self.grad_f(x))\n",
    "            # calculate the k step's size\n",
    "            alpha =self.Wolfe(x, d)\n",
    "            # calculate H_k+1\n",
    "            x_next = x + alpha * d\n",
    "            s = x_next - x\n",
    "            y = self.grad_f(x_next) - self.grad_f(x)\n",
    "            #H = self.SR1(s, y, H)\n",
    "            H = self.BFGS(s, y, H)\n",
    "            # store the result\n",
    "            result[k] = grad_f(x_next)@grad_f(x_next)\n",
    "            # init the next step\n",
    "            x = x_next\n",
    "        return result,x\n",
    "    \n",
    "    def double_while_BFGS(self, x, k, rho, s, y, _m, _H):\n",
    "        q = self.grad_f(x[k])\n",
    "        i = k - 1\n",
    "        j = 1\n",
    "        alpha = np.zeros(_m)\n",
    "        while(i >= k - _m):\n",
    "            alpha[_m-j] = rho[_m-j] * s[_m-j]@q\n",
    "            q = q - alpha[_m-j] * y[_m-j]\n",
    "            j = j + 1\n",
    "            i = i - 1\n",
    "        r = _H@q\n",
    "        for i in range(k-_m, k-1):\n",
    "            beta = rho[i-(k-_m)] * y[i-(k-_m)]@r\n",
    "            r += (alpha[i-(k-_m)] - beta) * s[i-(k-_m)]\n",
    "        return r\n",
    "\n",
    "    def solve_L_BFGS(self):\n",
    "        ## init x_0 and H_0 (or B_0)\n",
    "        H = np.eye(m)\n",
    "        x = np.zeros((self.step + 1, m))\n",
    "        x[0] = np.linspace(1,10,m)\n",
    "        # init the result of this method\n",
    "        result = np.zeros(self.step)\n",
    "        _m = 5 ## the length of L-BFGS\n",
    "        ## 0,...,_m step, use BFGS method\n",
    "        for k in range(_m):\n",
    "            # calculate the k step's direction\n",
    "            d = -(H@self.grad_f(x[k]))\n",
    "            # calculate the k step's size\n",
    "            alpha =self.Wolfe(x[k], d)\n",
    "            # calculate H_k+1\n",
    "            x[k+1] = x[k] + alpha * d\n",
    "            s = x[k+1] - x[k]\n",
    "            y = self.grad_f(x[k+1]) - self.grad_f(x[k])\n",
    "            #H = self.SR1(s, y, H)\n",
    "            H = self.BFGS(s, y, H)\n",
    "            # store the result\n",
    "            result[k] = grad_f(x[k+1])@grad_f(x[k+1])\n",
    "        ## init s, y and rho and set value\n",
    "        s = np.zeros((_m, m))\n",
    "        y = np.zeros((_m, m))\n",
    "        rho = np.zeros(_m)\n",
    "        for i in range(_m):\n",
    "            s[i] = x[i+1] - x[i]\n",
    "            y[i] = self.grad_f(x[i+1]) - self.grad_f(x[i])\n",
    "            rho[i] = 1/(y[i]@s[i])\n",
    "        ## double while L-BFGS method\n",
    "        for k in range(_m, self.step):\n",
    "            gamma = (s[_m-1]@y[_m-1])/(y[_m-1]@y[_m-1])\n",
    "            _H = gamma * np.eye(m) \n",
    "            d = -self.double_while_BFGS(x,k,rho,s,y,_m,_H)            \n",
    "            alpha = self.Wolfe(x[k], d)\n",
    "            x[k+1] = x[k] + alpha * d\n",
    "            ## update s, y and rho\n",
    "            for i in range(_m-1):\n",
    "                s[i] = s[i+1]\n",
    "                y[i] = y[i+1]\n",
    "            s[_m-1] = x[k+1] - x[k]\n",
    "            y[_m-1] = self.grad_f(x[k+1]) - self.grad_f(x[k])\n",
    "            rho = np.roll(rho, -1)\n",
    "            rho[_m-1] = 1/(s[_m-1]@y[_m-1])\n",
    "            result[k] = grad_f(x[k+1])@grad_f(x[k+1])\n",
    "        return result,x\n"
   ]
  },
  {
   "cell_type": "code",
   "execution_count": 5,
   "metadata": {},
   "outputs": [
    {
     "name": "stderr",
     "output_type": "stream",
     "text": [
      "C:\\User\\Shen\\AppData\\Local\\Temp\\ipykernel_20320\\3625004407.py:10: RuntimeWarning: overflow encountered in exp\n",
      "  s += np.log(1+np.exp(-B[i]*A[i]@x))\n"
     ]
    }
   ],
   "source": [
    "step = 500\n",
    "sol = quasi_Newton_method(f, grad_f, step)\n",
    "[r1,x1] = sol.solve()\n",
    "[r2,x2] = sol.solve_L_BFGS()"
   ]
  },
  {
   "cell_type": "code",
   "execution_count": 102,
   "metadata": {},
   "outputs": [
    {
     "data": {
      "text/plain": [
       "[<matplotlib.lines.Line2D at 0x2390a0faad0>]"
      ]
     },
     "execution_count": 102,
     "metadata": {},
     "output_type": "execute_result"
    },
    {
     "data": {
      "image/png": "[encoded data removed]",
      "text/plain": [
       "<Figure size 640x480 with 1 Axes>"
      ]
     },
     "metadata": {},
     "output_type": "display_data"
    }
   ],
   "source": [
    "plt.plot(np.linspace(1,step,step), r1)"
   ]
  },
  {
   "cell_type": "code",
   "execution_count": 103,
   "metadata": {},
   "outputs": [
    {
     "data": {
      "text/plain": [
       "[<matplotlib.lines.Line2D at 0x2390a12f1f0>]"
      ]
     },
     "execution_count": 103,
     "metadata": {},
     "output_type": "execute_result"
    },
    {
     "data": {
      "image/png": "[encoded data removed]",
      "text/plain": [
       "<Figure size 640x480 with 1 Axes>"
      ]
     },
     "metadata": {},
     "output_type": "display_data"
    }
   ],
   "source": [
    "plt.plot(np.linspace(1,step,step), r2)"
   ]
  },
  {
   "attachments": {},
   "cell_type": "markdown",
   "metadata": {},
   "source": [
    "根据输出结果可以看到，使用双循环算法的结果还可以。这里纵坐标就是书中的$||\\nabla l(x^k)||_{2}$"
   ]
  },
  {
   "cell_type": "code",
   "execution_count": 105,
   "metadata": {},
   "outputs": [
    {
     "data": {
      "text/plain": [
       "array([3.22979813e-03, 1.15024059e-03, 1.14289076e-02, 9.12704791e-04,\n",
       "       7.80588707e-04, 8.53673424e-06, 1.01067910e-04, 2.99944583e-06,\n",
       "       1.55476873e-06, 1.70225939e-06, 2.57882191e-06, 1.11888677e-07,\n",
       "       4.52362690e-08, 1.45482441e-08, 1.12199584e-08, 1.11713288e-09,\n",
       "       2.44167588e-10, 3.16122912e-10, 6.59265661e-12, 4.44113807e-12,\n",
       "       1.51730203e-13, 5.93150157e-15, 5.77322736e-16, 3.97075268e-16,\n",
       "       1.50947370e-17, 1.02612687e-18, 6.63016420e-19, 1.51899716e-19,\n",
       "       4.68346622e-19, 4.61547971e-19, 5.31187290e-19, 4.09036499e-19,\n",
       "       4.08889825e-19, 6.22015351e-22, 9.08921360e-24, 9.05602001e-24,\n",
       "       2.11703382e-23, 1.75015225e-23, 1.74228718e-23, 1.72163990e-23,\n",
       "       1.71465757e-23, 2.17332718e-24, 3.08652608e-26, 9.97038358e-27,\n",
       "       9.68809278e-27, 3.99171530e-27, 4.00931348e-27, 2.83484049e-27,\n",
       "       1.84949561e-27, 1.84934363e-27, 3.67658513e-28, 3.66744707e-28,\n",
       "       3.66059760e-28, 3.62892125e-28, 3.04746866e-28, 3.02672584e-28,\n",
       "       3.40407372e-28, 2.93777093e-28, 1.39368197e-27, 1.00780585e-27,\n",
       "       8.91340570e-28, 1.75562197e-27, 1.97067233e-27, 1.80376697e-27,\n",
       "       7.06847404e-28, 5.45807658e-28, 5.13133890e-28, 4.84378786e-28,\n",
       "       4.84073522e-28, 3.89999029e-28, 4.89706554e-28, 4.86604519e-28,\n",
       "       3.94396572e-28, 2.50014219e-28, 2.49870646e-28, 2.48281864e-28,\n",
       "       2.48120828e-28, 2.44760734e-28, 2.11498032e-28, 2.08670716e-28,\n",
       "       2.34220698e-28, 2.31420566e-28, 1.50301981e-28, 1.53056591e-28,\n",
       "       1.38926070e-28, 1.37540887e-28, 1.37204041e-28, 7.38014968e-29,\n",
       "       7.38311616e-29, 8.60066522e-29, 4.73196011e-26, 4.73602943e-26,\n",
       "       4.55675112e-26, 1.29484528e-25, 1.29184981e-25, 8.19077865e-27,\n",
       "       8.07875351e-27, 8.97698669e-27, 6.12553201e-27, 3.11462510e-27,\n",
       "       3.06212118e-27, 1.84359730e-27, 1.84092051e-27, 9.63285604e-28,\n",
       "       4.61272734e-28, 4.58411945e-28, 4.08814780e-28, 3.45661973e-28,\n",
       "       3.23644494e-28, 2.89690636e-28, 1.13389685e-27, 1.36010551e-27,\n",
       "       1.30177837e-27, 1.15902308e-27, 1.18862441e-27, 1.18789465e-27,\n",
       "       1.14981934e-27, 2.11192686e-26, 2.11171346e-26, 1.71574277e-25,\n",
       "       1.73697844e-25, 2.36136353e-25, 2.32498490e-25, 2.32496325e-25,\n",
       "       1.20184032e-25, 1.19633985e-25, 5.54960196e-27, 5.40334825e-27,\n",
       "       5.89982851e-27, 5.53592261e-27, 2.97991328e-27, 2.97728731e-27,\n",
       "       5.31193941e-27, 1.10494058e-27, 1.10489107e-27, 9.31600970e-29,\n",
       "       9.26469017e-29, 7.90900682e-29, 7.85015807e-29, 7.86117432e-29,\n",
       "       5.10358889e-29, 2.63598792e-28, 3.11345845e-28, 2.42834726e-28,\n",
       "       1.85339320e-28, 1.84893675e-28, 1.66535208e-28, 1.37531735e-28,\n",
       "       2.77269444e-28, 2.56950500e-28, 2.43272325e-28, 6.89339935e-28,\n",
       "       6.77730238e-28, 6.75192500e-28, 5.30333926e-28, 4.86079521e-28,\n",
       "       5.25471903e-28, 5.24775263e-28, 4.65911537e-28, 4.24799625e-28,\n",
       "       5.78461398e-28, 5.77614815e-28, 5.29956550e-28, 5.28509358e-28,\n",
       "       5.28136787e-28, 4.82906394e-28, 2.04370654e-27, 2.04378061e-27,\n",
       "       1.95359950e-27, 1.61797796e-27, 1.61656320e-27, 4.15113198e-27,\n",
       "       7.11362090e-27, 6.92216436e-27, 1.11647499e-26, 1.70865796e-26,\n",
       "       1.65655161e-26, 1.32168832e-26, 6.28975228e-27, 6.28701122e-27,\n",
       "       4.88066330e-27, 4.87680390e-27, 4.67766629e-27, 1.16342781e-28,\n",
       "       8.80206115e-29, 8.79832089e-29, 8.71558610e-29, 7.54956995e-29,\n",
       "       3.11600459e-29, 1.60923813e-27, 1.60931880e-27, 9.81751959e-28,\n",
       "       9.81630015e-28, 8.94175694e-28, 8.92364867e-28, 8.27072914e-28,\n",
       "       1.04888811e-29, 1.04771988e-29, 1.04739911e-29, 3.53395487e-30])"
      ]
     },
     "execution_count": 105,
     "metadata": {},
     "output_type": "execute_result"
    }
   ],
   "source": [
    "r2"
   ]
  },
  {
   "cell_type": "code",
   "execution_count": 9,
   "metadata": {},
   "outputs": [
    {
     "data": {
      "text/plain": [
       "array([3.22979813e-03, 1.15024061e-03, 8.57196109e-04, 8.15465103e-04,\n",
       "       8.07930520e-04, 8.05833410e-04, 1.50415310e-03, 8.02286445e-04,\n",
       "       7.86947012e-04, 7.76811432e-04, 7.73304752e-04, 4.72254542e-03,\n",
       "       7.63867339e-04, 7.35280154e-04, 2.90401180e-03, 6.27650939e-04,\n",
       "       3.41249694e-04, 3.35913514e-04, 3.03453835e-04, 2.68826778e-04,\n",
       "       1.80313775e-04, 1.70288927e-04, 1.41710058e-04, 1.26870084e-04,\n",
       "       1.20730839e-04, 1.08380332e-04, 1.06571542e-04, 8.96413918e-05,\n",
       "       8.55291122e-05, 5.21094690e-05, 4.49894505e-05, 1.91054873e-04,\n",
       "       2.85304045e-05, 6.96421193e-04, 1.38242437e-05, 1.00770813e-05,\n",
       "       9.33041363e-06, 8.34629997e-06, 7.97396956e-06, 2.50449436e-05,\n",
       "       7.62884450e-06, 1.96369964e-05, 6.75579318e-06, 5.87136026e-06,\n",
       "       7.72815789e-06, 5.22695222e-06, 4.16032868e-06, 3.63183873e-06,\n",
       "       1.62486406e-05, 2.48726896e-06, 1.47517483e-06, 1.37700769e-06,\n",
       "       1.24169319e-06, 9.29984201e-07, 6.20423063e-07, 5.47048930e-07,\n",
       "       5.09189748e-07, 3.05935869e-07, 5.41372029e-07, 2.74608834e-07,\n",
       "       2.98945942e-07, 2.41007874e-07, 2.37913937e-07, 2.20624719e-07,\n",
       "       2.01886915e-07, 1.93601097e-07, 2.00325227e-07, 1.88528963e-07,\n",
       "       1.97646803e-07, 1.66606992e-07, 2.18144341e-07, 1.58805733e-07,\n",
       "       1.37801895e-07, 1.39543912e-07, 3.15001527e-07, 1.30788934e-07,\n",
       "       9.66374200e-08, 2.65561332e-07, 1.40673313e-07, 8.83298627e-08,\n",
       "       1.06133636e-07, 8.08259644e-08, 7.69445079e-08, 7.16687918e-08,\n",
       "       5.66341688e-08, 5.98836135e-08, 7.87790811e-08, 4.77146705e-08,\n",
       "       5.92923392e-08, 5.10152165e-08, 5.62486909e-08, 3.52173874e-08,\n",
       "       3.78195403e-08, 4.22408668e-08, 3.39319763e-08, 3.15641860e-08,\n",
       "       3.31056969e-08, 3.20742203e-08, 3.85981047e-08, 2.93546434e-08,\n",
       "       2.72372896e-08, 2.36958461e-08, 2.68897091e-08, 3.94708957e-08,\n",
       "       2.14151271e-08, 2.62392799e-08, 2.43488857e-08, 2.19093900e-08,\n",
       "       2.97787995e-08, 2.12670634e-08, 2.00465190e-08, 1.65349556e-08,\n",
       "       2.91878146e-08, 1.60657654e-08, 1.55860279e-08, 1.36681346e-08,\n",
       "       1.36568919e-08, 1.37151201e-08, 1.41396737e-08, 1.38315918e-08,\n",
       "       1.34438239e-08, 1.32838072e-08, 1.28293117e-08, 1.76388328e-08,\n",
       "       1.44966182e-08, 1.28206696e-08, 1.10447999e-08, 1.24583004e-08,\n",
       "       1.19626916e-08, 1.07604977e-08, 9.00624325e-09, 1.05694563e-08,\n",
       "       9.46992038e-09, 8.69564697e-09, 8.71301771e-09, 8.17480068e-09,\n",
       "       7.19145249e-09, 7.17441241e-09, 7.34800223e-09, 6.32299394e-09,\n",
       "       6.06106236e-09, 6.00058336e-09, 7.50138211e-09, 5.63822799e-09,\n",
       "       6.42642488e-09, 1.13771438e-08, 4.60064971e-09, 3.43797813e-09,\n",
       "       2.85019611e-09, 2.48498492e-09, 2.20155149e-09, 4.42814065e-09,\n",
       "       1.49883575e-09, 2.47714134e-09, 1.74402340e-09, 1.36257766e-09,\n",
       "       1.89225523e-09, 9.70958622e-10, 7.91239485e-10, 6.24360088e-10,\n",
       "       8.86857183e-10, 6.21358473e-10, 6.17549420e-10, 4.67341392e-10,\n",
       "       4.38070577e-10, 4.00513618e-10, 4.16306758e-10, 4.36034709e-10,\n",
       "       3.63187980e-10, 3.58261064e-10, 3.13019601e-10, 3.73918086e-10,\n",
       "       2.89186345e-10, 3.46840366e-10, 2.50112550e-10, 2.54336487e-10,\n",
       "       2.37447337e-10, 2.22969399e-10, 2.05033862e-10, 2.67430143e-10,\n",
       "       1.92560084e-10, 2.02495785e-10, 2.11679352e-10, 1.91706121e-10,\n",
       "       1.75444551e-10, 1.68828281e-10, 1.64992183e-10, 1.86827621e-10,\n",
       "       1.97739471e-10, 1.43194031e-10, 1.21195730e-10, 1.26033296e-10,\n",
       "       1.40086834e-10, 1.45778723e-10, 1.10052566e-10, 1.10338759e-10,\n",
       "       9.69788269e-11, 9.50681963e-11, 1.16322198e-10, 1.20710856e-10,\n",
       "       1.21220144e-10, 1.20004817e-10, 7.78304146e-11, 9.44638376e-11,\n",
       "       7.98098909e-11, 7.92249806e-11, 7.53812932e-11, 7.42734683e-11,\n",
       "       7.24639509e-11, 7.27471185e-11, 5.81546194e-11, 9.33364274e-11,\n",
       "       7.40410755e-11, 5.52784399e-11, 5.10548016e-11, 5.58707002e-11,\n",
       "       6.69039906e-11, 1.05693335e-10, 3.40408543e-11, 3.70705808e-11,\n",
       "       3.38447122e-11, 3.88008239e-11, 4.60858326e-11, 3.29043741e-11,\n",
       "       1.60195331e-11, 1.95003491e-11, 1.43070559e-11, 1.17124263e-11,\n",
       "       1.23356955e-11, 1.02252888e-11, 1.37562417e-11, 1.06998214e-11,\n",
       "       9.05408208e-12, 8.76683680e-12, 1.82782908e-11, 6.12282162e-12,\n",
       "       7.19118039e-12, 8.18778499e-12, 6.04919026e-12, 4.37048213e-12,\n",
       "       5.25239021e-12, 4.02801042e-12, 3.67111501e-12, 3.73191472e-12,\n",
       "       3.79438156e-12, 3.80444788e-12, 2.91896579e-12, 5.98499286e-12,\n",
       "       2.55840097e-12, 5.81930273e-12, 2.04702831e-12, 2.57730673e-12,\n",
       "       2.04718467e-12, 1.79171500e-12, 3.54127060e-12, 1.59499751e-12,\n",
       "       1.45421612e-12, 1.43399895e-12, 1.31166001e-12, 1.08754226e-12,\n",
       "       9.74405842e-13, 9.65850185e-13, 9.05423951e-13, 9.26325246e-13,\n",
       "       1.21017315e-12, 8.70746155e-13, 1.15959421e-12, 8.52001162e-13,\n",
       "       1.00727827e-12, 7.13433113e-13, 7.64767208e-13, 7.23115221e-13,\n",
       "       6.87673324e-13, 6.99141971e-13, 6.35903988e-13, 6.73540124e-13,\n",
       "       7.45004468e-13, 6.32397820e-13, 5.84682413e-13, 5.45065206e-13,\n",
       "       5.70938008e-13, 6.52626763e-13, 5.54073055e-13, 4.94815363e-13,\n",
       "       4.53506112e-13, 5.06680170e-13, 8.68021542e-13, 4.60893621e-13,\n",
       "       3.75733329e-13, 3.83881859e-13, 3.04331317e-13, 3.71897381e-13,\n",
       "       5.69095301e-13, 2.49255777e-13, 1.80294733e-13, 1.87724330e-13,\n",
       "       2.10408870e-13, 1.50574018e-13, 4.47152934e-13, 1.77840907e-13,\n",
       "       1.95273411e-13, 1.48268552e-13, 8.60800236e-14, 6.97233926e-14,\n",
       "       7.91321893e-14, 5.71987934e-14, 7.57225377e-14, 4.56689912e-14,\n",
       "       5.16847320e-14, 4.78520457e-14, 4.59919522e-14, 7.08344822e-14,\n",
       "       5.34562948e-14, 2.61952830e-14, 4.18300229e-14, 1.99554275e-14,\n",
       "       1.69170167e-14, 1.77374609e-14, 2.10147674e-14, 1.53459530e-14,\n",
       "       1.48104328e-14, 1.31020550e-14, 1.21358090e-14, 1.40537324e-14,\n",
       "       1.03555694e-14, 7.33375630e-15, 9.38879750e-15, 7.85969587e-15,\n",
       "       1.28388336e-14, 5.95412929e-15, 6.74309530e-15, 7.59888600e-15,\n",
       "       4.50210771e-15, 5.00921354e-15, 5.14857620e-15, 5.39108734e-15,\n",
       "       4.20010378e-15, 4.35096711e-15, 4.00295406e-15, 4.67850983e-15,\n",
       "       3.55512111e-15, 4.18044599e-15, 3.43687136e-15, 4.38911550e-15,\n",
       "       3.66627282e-15, 3.07894117e-15, 3.58426736e-15, 2.54267070e-15,\n",
       "       2.64593796e-15, 3.38886135e-15, 2.30229801e-15, 2.39560906e-15,\n",
       "       1.90525405e-15, 3.61719375e-15, 1.63114356e-15, 1.30836094e-15,\n",
       "       1.81528718e-15, 1.27506430e-15, 1.71996279e-15, 1.00374084e-15,\n",
       "       9.50567814e-16, 8.53694942e-16, 7.91296769e-16, 6.79005104e-16,\n",
       "       8.21222690e-16, 8.47804796e-16, 6.67335571e-16, 6.37115182e-16,\n",
       "       1.12077606e-15, 8.35145213e-16, 5.31600403e-16, 3.34764192e-16,\n",
       "       3.71633899e-16, 3.19456645e-16, 5.77857417e-16, 4.23030085e-16,\n",
       "       3.75722801e-16, 2.48453964e-16, 2.04589573e-16, 2.14785031e-16,\n",
       "       2.55309648e-16, 1.83733416e-16, 4.09509248e-16, 1.85893623e-16,\n",
       "       1.91750457e-16, 1.36430142e-16, 1.62932075e-16, 1.27587824e-16,\n",
       "       1.81450165e-16, 1.05310867e-16, 1.08027852e-16, 9.05588470e-17,\n",
       "       7.95887182e-17, 8.78834018e-17, 1.07519280e-16, 7.76471027e-17,\n",
       "       8.30484273e-17, 7.92137372e-17, 6.61082323e-17, 6.51348974e-17,\n",
       "       6.11563353e-17, 6.94765797e-17, 7.41338394e-17, 5.78924660e-17,\n",
       "       6.74748177e-17, 5.30804316e-17, 8.98150205e-17, 3.93354679e-17,\n",
       "       5.08490935e-17, 3.39694342e-17, 5.28201898e-17, 4.23445065e-17,\n",
       "       3.20816583e-17, 2.34357123e-17, 3.14809708e-17, 1.96245437e-17,\n",
       "       5.48440403e-17, 1.91754879e-17, 1.89010772e-17, 1.39371632e-17,\n",
       "       1.10811414e-17, 2.55280331e-17, 9.65533341e-18, 1.41921984e-17,\n",
       "       1.90437520e-17, 2.28768841e-17, 8.43272376e-18, 6.78918941e-18,\n",
       "       6.33558399e-18, 6.05472258e-18, 7.81851731e-18, 6.84191733e-18,\n",
       "       6.04352252e-18, 8.80988661e-18, 4.14847370e-18, 4.15123776e-18,\n",
       "       4.61376562e-18, 5.01361444e-18, 1.28933193e-17, 5.02384019e-18,\n",
       "       3.36177314e-18, 6.25243951e-18, 4.86971886e-18, 2.26244007e-18,\n",
       "       1.16147038e-17, 7.11444201e-18, 1.97776453e-18, 1.55793952e-18,\n",
       "       2.24364093e-18, 1.38773721e-18, 1.42603726e-18, 3.07681236e-18,\n",
       "       3.63648693e-18, 1.20287127e-18, 9.78850880e-19, 1.04114211e-18,\n",
       "       9.97756751e-19, 2.17502953e-18, 1.89276006e-18, 8.34600432e-19,\n",
       "       8.82540706e-19, 2.26686162e-18, 2.12760536e-18, 6.77033320e-19,\n",
       "       1.54453635e-18, 5.76420703e-19, 7.55467748e-19, 1.20304609e-18,\n",
       "       4.80848656e-19, 4.14143537e-19, 3.85381913e-19, 3.92746511e-19,\n",
       "       3.41022749e-19, 3.76116565e-19, 7.46088085e-19, 3.05180536e-19,\n",
       "       3.01616797e-19, 8.02034098e-19, 2.09063472e-18, 1.28895958e-18,\n",
       "       1.54489421e-18, 8.96581340e-19, 5.56089861e-19, 5.15932947e-19,\n",
       "       2.68073284e-19, 2.61472466e-18, 1.85939296e-18, 4.53292982e-18,\n",
       "       1.42040299e-18, 7.76994580e-19, 4.76698637e-19, 4.39832531e-19,\n",
       "       4.79404516e-18, 3.18931405e-19, 1.82772872e-18, 9.92103326e-19,\n",
       "       1.59232502e-18, 6.70523981e-20, 1.59995342e-18, 3.24437162e-19])"
      ]
     },
     "execution_count": 9,
     "metadata": {},
     "output_type": "execute_result"
    }
   ],
   "source": [
    "r1"
   ]
  },
  {
   "cell_type": "code",
   "execution_count": 10,
   "metadata": {},
   "outputs": [
    {
     "data": {
      "text/plain": [
       "array([3.22979813e-03, 1.15024061e-03, 8.57196109e-04, 8.15465103e-04,\n",
       "       8.07930520e-04, 2.27947782e-03, 2.01919515e-04, 1.37192993e-04,\n",
       "       1.39025350e-04, 1.31718381e-04, 5.72345209e-05, 4.18743010e-05,\n",
       "       4.06997761e-06, 2.96391247e-06, 7.51469685e-06, 1.94496413e-06,\n",
       "       7.68950452e-07, 7.80599074e-07, 3.98149198e-07, 1.57835499e-07,\n",
       "       1.27126578e-07, 7.13617713e-09, 1.64083776e-09, 1.33208782e-10,\n",
       "       1.56472420e-10, 7.53313481e-12, 3.72944252e-15, 2.04882414e-15,\n",
       "       2.08314035e-15, 1.70687845e-16, 1.84395814e-16, 5.20296203e-17,\n",
       "       2.29442372e-19, 5.97525198e-20, 1.45448407e-19, 7.89748790e-21,\n",
       "       1.08775968e-20, 3.21712176e-21, 6.97063068e-22, 6.88873402e-22,\n",
       "       2.13452231e-21, 4.68986918e-23, 1.61351113e-23, 1.03387205e-23,\n",
       "       1.02413465e-23, 4.17718230e-24, 6.22783055e-25, 4.93966657e-24,\n",
       "       4.96292270e-24, 6.76885043e-25, 7.59218040e-25, 5.82091199e-25,\n",
       "       5.78184438e-25, 5.16610183e-26, 6.75480552e-26, 6.60961543e-26,\n",
       "       1.07330317e-25, 9.97562525e-26, 9.61010134e-26, 8.46247598e-26,\n",
       "       3.06929446e-26, 9.54843643e-28, 7.31678310e-28, 5.72756857e-28,\n",
       "       9.57846975e-28, 9.57876096e-28, 6.49812822e-27, 2.82471440e-27,\n",
       "       1.87857138e-26, 1.87847099e-26, 1.78563298e-26, 1.86381899e-26,\n",
       "       2.60591216e-26, 1.94634874e-26, 5.95378270e-27, 6.12597359e-29,\n",
       "       4.18849035e-30, 2.90299244e-30, 3.31325259e-30, 3.28915233e-30,\n",
       "       3.46046501e-30, 3.40646227e-30, 3.42272355e-30, 3.41032442e-30,\n",
       "       3.40450400e-30, 2.80305211e-30, 2.76842208e-30, 2.74282103e-30,\n",
       "       2.21971310e-30, 2.71851861e-30, 2.89881207e-30, 3.41090667e-29,\n",
       "       7.08046933e-28, 1.25749279e-27, 8.05314447e-29, 2.66792265e-30,\n",
       "       2.45141325e-30, 2.43200060e-30, 2.34237671e-30, 2.36665358e-30,\n",
       "       3.44894058e-30, 2.59748939e-29, 2.48274098e-29, 2.45738612e-29,\n",
       "       2.43335943e-29, 1.35266072e-29, 1.30293538e-29, 1.29921633e-29,\n",
       "       1.56396188e-29, 2.74881380e-28, 1.16049595e-28, 1.15242275e-28,\n",
       "       1.14830642e-28, 1.14306812e-28, 1.12753925e-28, 1.12606818e-28,\n",
       "       1.11115112e-28, 1.10849278e-28, 1.09388060e-28, 1.09722614e-27,\n",
       "       2.82905889e-27, 2.82840987e-27, 2.82264559e-27, 1.31166781e-26,\n",
       "       1.41168051e-26, 7.89316281e-26, 6.91482071e-26, 4.23914662e-26,\n",
       "       4.61191400e-26, 1.09459688e-26, 1.66611300e-26, 2.55971373e-30,\n",
       "       2.52529558e-30, 2.49806814e-30, 2.38324908e-30, 2.60758212e-30,\n",
       "       7.16983405e-29, 6.08443516e-29, 3.18117295e-30, 2.37794969e-30,\n",
       "       2.83582968e-30, 2.80872626e-30, 2.39432748e-30, 2.15447947e-29,\n",
       "       2.12782618e-29, 3.42425174e-30, 2.77634592e-30, 2.77582722e-30,\n",
       "       2.24949905e-29, 2.24558060e-29, 2.61047521e-30, 2.84591581e-28,\n",
       "       2.88491922e-28, 2.27345054e-28, 1.18227094e-26, 9.43535713e-27,\n",
       "       6.12544966e-27, 6.12393398e-27, 3.58305613e-27, 2.05231523e-27,\n",
       "       2.05095279e-27, 1.78796743e-27, 1.18617079e-27, 1.32061835e-27,\n",
       "       7.66805463e-28, 8.49502777e-28, 8.48589234e-28, 8.48482684e-28,\n",
       "       2.89373426e-28, 2.89163633e-28, 2.88888811e-28, 2.87860411e-28,\n",
       "       2.01573691e-28, 3.70585983e-30, 3.55895314e-30, 2.29976357e-29,\n",
       "       2.48539325e-30, 2.56683821e-30, 2.57265498e-30, 2.46818003e-30,\n",
       "       2.45031822e-30, 2.45004053e-30, 2.88378574e-30, 3.39660248e-30,\n",
       "       3.16745939e-30, 2.57107067e-30, 7.67509554e-29, 7.67221623e-29,\n",
       "       6.46959216e-29, 2.28624418e-28, 1.11760913e-28, 2.37345864e-29,\n",
       "       2.05212928e-29, 2.66602807e-30, 2.66059639e-30, 2.65188040e-30,\n",
       "       2.61266205e-30, 2.65956692e-30, 2.70150408e-30, 2.68454997e-30,\n",
       "       2.21129569e-30, 2.21374316e-30, 2.44009249e-30, 2.44669629e-30,\n",
       "       2.38949468e-30, 2.51843744e-30, 2.51825804e-30, 2.20593987e-29,\n",
       "       2.52355191e-29, 2.79587415e-30, 2.54263970e-30, 2.92681077e-30,\n",
       "       2.73887822e-30, 2.38937325e-30, 2.21605362e-29, 2.21408114e-29,\n",
       "       3.48344754e-30, 3.45565478e-30, 3.37415541e-30, 2.87007392e-30,\n",
       "       2.86350624e-30, 2.83764516e-30, 2.81871460e-30, 2.79378187e-30,\n",
       "       2.77448554e-30, 2.69163716e-29, 2.70176469e-29, 2.39971950e-29,\n",
       "       2.49467866e-29, 2.52848368e-29, 2.52438207e-29, 2.51518450e-29,\n",
       "       2.49795316e-29, 2.47840268e-29, 5.50828898e-28, 5.54918519e-28,\n",
       "       5.28727995e-28, 2.86323401e-26, 2.86259772e-26, 1.03171014e-29,\n",
       "       5.25487419e-30, 4.60696957e-30, 3.23537693e-30, 3.20687456e-30,\n",
       "       3.20354433e-30, 3.15391847e-30, 3.15195055e-30, 2.00399002e-28,\n",
       "       1.40467530e-28, 1.24473649e-28, 1.56871450e-29, 1.24580240e-29,\n",
       "       1.23034392e-29, 1.21428508e-29, 1.20741021e-29, 1.19056130e-29,\n",
       "       1.18878268e-29, 1.17206211e-29, 3.67406478e-30, 2.64198478e-30,\n",
       "       2.50186710e-29, 2.50125574e-29, 2.70103683e-28, 7.01005682e-28,\n",
       "       1.83460402e-28, 6.23855034e-29, 6.22400179e-29, 6.03806011e-29,\n",
       "       1.46782380e-29, 1.30872580e-29, 1.23345030e-29, 3.72031791e-30,\n",
       "       3.71113833e-30, 3.70992605e-30, 3.65154592e-30, 3.63561986e-30,\n",
       "       3.57909594e-30, 3.57897311e-30, 3.52330253e-30, 3.52364391e-30,\n",
       "       3.46869022e-30, 3.46764877e-30, 1.99986556e-28, 1.95725509e-28,\n",
       "       1.95406348e-28, 1.39546301e-28, 1.28630680e-29, 1.32722101e-29,\n",
       "       1.16069562e-29, 1.16221874e-29, 1.15102627e-29, 3.46462968e-30,\n",
       "       2.44090518e-29, 2.50575823e-29, 2.23610754e-29, 2.21685158e-29,\n",
       "       2.20117155e-29, 2.18175135e-29, 2.16686941e-29, 2.14779357e-29,\n",
       "       2.13313720e-29, 1.25070437e-29, 1.25004189e-29, 1.21391152e-27,\n",
       "       1.21584507e-27, 1.09865675e-27, 1.11575670e-26, 1.11864915e-26,\n",
       "       2.26895288e-26, 1.87219309e-25, 1.86059878e-25, 1.33905634e-25,\n",
       "       1.25943956e-25, 2.03822341e-25, 2.97334853e-25, 7.57996609e-26,\n",
       "       6.92162823e-26, 1.70320341e-26, 1.72224784e-26, 3.32065837e-30,\n",
       "       2.98362614e-30, 2.97760114e-30, 2.91115521e-30, 2.88687137e-30,\n",
       "       2.87463374e-30, 2.83957533e-30, 2.82999940e-30, 2.79551288e-30,\n",
       "       2.78604651e-30, 2.75168746e-30, 2.37493541e-29, 5.90600807e-29,\n",
       "       5.89000090e-29, 7.39901249e-29, 7.36728203e-29, 2.30612005e-29,\n",
       "       2.15101831e-29, 2.14785007e-29, 2.14318558e-29, 2.12847754e-29,\n",
       "       2.11341977e-29, 2.09834929e-29, 2.08020255e-29, 2.06565915e-29,\n",
       "       1.17811082e-29, 2.92206743e-29, 2.70074099e-29, 1.44477368e-29,\n",
       "       1.75672912e-29, 2.34400854e-29, 3.61808995e-30, 3.08729188e-30,\n",
       "       4.06613681e-30, 3.95021876e-30, 2.40494171e-30, 2.72503518e-30,\n",
       "       2.67256768e-30, 2.40196728e-30, 2.11578799e-29, 3.27191151e-30,\n",
       "       3.25659871e-30, 3.25076263e-30, 3.22829976e-30, 2.82616291e-30,\n",
       "       2.73213649e-29, 3.54191488e-30, 3.02733433e-30, 2.34685899e-30,\n",
       "       2.35155933e-30, 2.49485289e-30, 2.49469447e-30, 2.33115909e-29,\n",
       "       3.62351229e-30, 3.60841317e-30, 3.61455735e-30, 3.57554102e-30,\n",
       "       3.56644233e-30, 3.52298147e-30, 1.16987194e-29, 5.79953576e-29,\n",
       "       2.98518385e-30, 2.68525086e-30, 2.14997660e-30, 2.43859934e-30,\n",
       "       2.40520362e-30, 2.11546982e-30, 2.35341494e-30, 2.35280564e-30,\n",
       "       2.34959840e-30, 2.12306065e-30, 2.33256840e-30, 2.11104836e-30,\n",
       "       2.33065121e-30, 2.11040171e-30, 2.11025547e-30, 2.33037660e-30,\n",
       "       2.10992704e-30, 2.11058607e-30, 1.16130209e-25, 1.15199866e-23,\n",
       "       1.59733354e-19, 1.12059734e-19, 1.37588406e-20, 7.63846352e-21,\n",
       "       8.83163596e-21, 9.87850894e-23, 9.72039244e-23, 9.72037333e-23,\n",
       "       2.29702745e-23, 3.08266225e-23, 3.03822737e-23, 1.62194962e-23,\n",
       "       4.14379169e-26, 3.35871380e-26, 2.81358491e-26, 2.77788730e-26,\n",
       "       2.30515136e-26, 1.38833993e-26, 1.35662961e-26, 4.09247186e-27,\n",
       "       3.33903741e-27, 2.31858059e-27, 2.31632697e-27, 2.07835679e-27,\n",
       "       4.95263741e-27, 5.84078519e-27, 5.81250806e-27, 1.34533881e-27,\n",
       "       1.47829619e-27, 1.97980498e-28, 5.30255763e-29, 2.51139484e-29,\n",
       "       4.45446096e-30, 3.47928522e-30, 3.88090100e-30, 3.62354004e-30,\n",
       "       2.41799272e-30, 2.85593162e-30, 2.87364541e-30, 2.47550664e-30,\n",
       "       2.68357909e-30, 3.01356664e-30, 3.73358498e-30, 3.51680518e-30,\n",
       "       3.49054416e-30, 3.46694786e-30, 3.43411059e-30, 2.78550854e-29,\n",
       "       2.81973049e-29, 5.77300007e-29, 2.53056939e-30, 2.75537151e-30,\n",
       "       2.51166577e-30, 3.35968470e-30, 3.70291037e-30, 2.12416802e-30,\n",
       "       2.43114403e-30, 2.43614615e-30, 2.45208969e-30, 2.11757561e-30,\n",
       "       2.37457558e-30, 2.35563299e-30, 2.34583541e-30, 2.12353254e-30,\n",
       "       2.34314906e-30, 2.33783405e-30, 1.29566315e-29, 1.28209629e-29,\n",
       "       5.89889200e-30, 2.49036910e-29, 2.16084024e-29, 6.17675354e-30,\n",
       "       5.03682684e-29, 2.61540581e-29, 1.24886542e-29, 1.24645405e-29,\n",
       "       1.29583540e-29, 4.70969838e-30, 2.55976056e-29, 2.58408302e-29,\n",
       "       2.50999961e-29, 1.38894719e-29, 2.27080715e-29, 3.05957153e-30,\n",
       "       2.16015912e-29, 1.04078522e-29, 3.04529587e-30, 2.45661921e-30,\n",
       "       2.63796177e-30, 2.73583033e-30, 2.88562262e-30, 2.56870189e-29,\n",
       "       2.46683707e-29, 2.69232042e-29, 3.93186702e-28, 1.91663847e-28,\n",
       "       1.91459858e-28, 1.90934326e-28, 1.89727218e-28, 7.12247546e-29])"
      ]
     },
     "execution_count": 10,
     "metadata": {},
     "output_type": "execute_result"
    }
   ],
   "source": [
    "r2"
   ]
  }
 ],
 "metadata": {
  "kernelspec": {
   "display_name": "new",
   "language": "python",
   "name": "python3"
  },
  "language_info": {
   "codemirror_mode": {
    "name": "ipython",
    "version": 3
   },
   "file_extension": ".py",
   "mimetype": "text/x-python",
   "name": "python",
   "nbconvert_exporter": "python",
   "pygments_lexer": "ipython3",
   "version": "3.10.6"
  },
  "orig_nbformat": 4
 },
 "nbformat": 4,
 "nbformat_minor": 2
}
