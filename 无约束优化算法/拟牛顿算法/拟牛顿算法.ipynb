{
 "cells": [
  {
   "attachments": {},
   "cell_type": "markdown",
   "metadata": {},
   "source": [
    "拟牛顿方法不计算海瑟矩阵$\\nabla^2f(x)$, 而是构造其近似矩阵$B^k$或者其逆的近似矩阵$H^k$. 我们希望$B^k$或者$H^k$保留了一些海瑟矩阵的性质, 例如使得$d^k$仍然为下降方向."
   ]
  },
  {
   "attachments": {},
   "cell_type": "markdown",
   "metadata": {},
   "source": [
    "### 割线方程\n",
    "设$f(x)$是二次可微的, 向量值函数$\\nabla f(x)$在点$x^{k+1}$处的近似为：\n",
    "$$\\nabla f(x)=\\nabla f(x^{k+1})+\\nabla^2f(x^{k+1})(x-x^{k+1})+O(||x-x^{k+1}||^2)$$\n",
    "令 $x = x^k, s^k = x^{k+1} − x^k$ 及 $y^k = \\nabla f(x^{k+1})− \\nabla f(x^k)$, 得到\n",
    "$$\\nabla^2f(x^{k+1})s^k+O(||s^k||^2)=y^k$$\n",
    "不考虑高阶项的时候, 我们可以得到海瑟矩阵的近似$B^{k+1}$满足：\n",
    "$$y^{k}=B^{k+1}s^{k}\\tag{1}$$\n",
    "或者其逆矩阵的近似矩阵$H^{k+1}$:\n",
    "$$s^{k}=H^{k+1}y^k\\tag{2}$$\n",
    "我们得到的近似矩阵$B^k$仍然需要保证它是正定的！对其两边同时左乘$(s^k)^T$得到$(s^k)^Ty^{k}=(s^k)^TB^{k+1}s^{k}$, 从而有条件:\n",
    "$$(s^k)^Ty^{k}>0\\tag{3}$$\n",
    "对于一般的目标函数, 采取Wolfe准则就会保证曲率条件(3)成立！理由：\n",
    "$$\\nabla f(x^{k+1})^Ts^k\\geq c_2\\nabla f(x^k)^Ts^k\\\\\n",
    "(y^k)^Ts^k\\geq(c_2-1)\\nabla f(x^{k})^Ts^k>0$$\n",
    "这是因为$c_2<1$并且$s^k=\\alpha_kd^k$是下降方向."
   ]
  },
  {
   "attachments": {},
   "cell_type": "markdown",
   "metadata": {},
   "source": [
    "### 一般框架 \n",
    "![](1.png)"
   ]
  },
  {
   "attachments": {},
   "cell_type": "markdown",
   "metadata": {},
   "source": [
    "### BFGS 公式\n",
    "我们这样计算近似矩阵,设$B^{k+1}=B^{k}+auu^{T}+bvv^T$, 其中$a,b\\in R$待定, 根据割线方程(1):\n",
    "$$B^{k+1}s^{k}=y^k=(B^{k}+auu^{T}+bvv^T)s^k$$\n",
    "整理一下就有：$$(au^Ts^k)u+(bv^Ts^T)v=y^k-B^ks^k$$\n",
    "直接让两边系数相等就可以得到$u,v,a,b$的公式了, 然后就可以得到$B^k$到$B^{k+1}$的更新公式\n",
    "$$B^{k+1}=B^{k}+\\frac{y^{k}(y^{k})^T}{(s^k)^Ty^k}-\\frac{B^ks^k(B^ks^k)^T}{(s^k)^TB^ks^k}.\\tag{4}$$\n",
    "在问题求解过程中，条件(3) 不一定会得到满足，此时应该使用 Wolfe 准则的线搜索来迫使条件(3)成立. 我们根据这个式子并且假设$H^k=(B^k)^{-1}$可以得到：\n",
    "$$H^{k+1}=(1-\\rho_ky^k(s^k)^T)^TH^k(I-\\rho_ky^k(s^k)^T)+\\rho_ks^k(s^k)^T\\tag{5}$$\n",
    "其中$\\rho_k=\\frac{1}{(s^k)^Ty^k}$"
   ]
  },
  {
   "attachments": {},
   "cell_type": "markdown",
   "metadata": {},
   "source": [
    "### 有限内存的BFGS公式\n",
    "首先我们引入新的记号去表示$H^{k}$的更新公式：\n",
    "$$H^{k+1}=(V^k)^TH^kV^k+\\rho_ks^k(s^k)^T,\\tag{6}$$\n",
    "其中\n",
    "$$\\rho_k=\\frac{1}{(y^k)^Ts^k},\\quad V^k=I-\\rho_ky^k(s^k)^T$$\n",
    "更新(6)式可以发现它有递归的特点, 于是我们可以展开$m$次"
   ]
  },
  {
   "attachments": {},
   "cell_type": "markdown",
   "metadata": {},
   "source": [
    "![](2.png)"
   ]
  },
  {
   "attachments": {},
   "cell_type": "markdown",
   "metadata": {},
   "source": [
    "很明显$H^{k-m}$还是无法显示求出来, 这个式子也不能无限展开. 我们只用一个近似的$H^{k-m}$去近似$H^{k-m}$, 这样这个式子就方便计算了. 这里给出一个算法."
   ]
  },
  {
   "attachments": {},
   "cell_type": "markdown",
   "metadata": {},
   "source": [
    "![](3.png)\n",
    "![](4.png)"
   ]
  },
  {
   "attachments": {},
   "cell_type": "markdown",
   "metadata": {},
   "source": [
    "### 应用举例\n",
    "#### 逻辑回归问题\n",
    "$$\\min_{x\\in R^n} l(x)= \\frac{1}{m}\\sum_{i=1}^{m}ln(1+exp(-b_ia_i^Tx))+\\lambda||x||_2^2$$\n"
   ]
  },
  {
   "cell_type": "code",
   "execution_count": 57,
   "metadata": {},
   "outputs": [],
   "source": [
    "import numpy as np\n",
    "import matplotlib.pyplot as plt"
   ]
  },
  {
   "cell_type": "code",
   "execution_count": 58,
   "metadata": {},
   "outputs": [],
   "source": [
    "m = 5\n",
    "n = 5\n",
    "A = np.random.randint(0, 10, (m,n))\n",
    "B = np.random.randint(0, 10, m)\n",
    "Lambda = 1/(100*m)\n",
    "\n",
    "def sum(x):\n",
    "    s = 0\n",
    "    for i in range(m):\n",
    "        s += np.log(1+np.exp(-B[i]*A[i]@x))\n",
    "    return s\n",
    "f = lambda x : (1/m)*sum(x) + Lambda*x@x\n",
    "\n",
    "def grad_sum(x):\n",
    "    s = 0\n",
    "    for i in range(m):\n",
    "        s += (1 - 1/(1+np.exp(-B[i]*A[i]@x))) * B[i] * A[i]\n",
    "    return s\n",
    "grad_f = lambda x : -(1/m)*grad_sum(x) + 2*Lambda*x"
   ]
  },
  {
   "cell_type": "code",
   "execution_count": 70,
   "metadata": {},
   "outputs": [],
   "source": [
    "class quasi_Newton_method():\n",
    "    def __init__(self, f, grad_f, step):\n",
    "        self.f = f\n",
    "        self.grad_f = grad_f\n",
    "        self.step = step\n",
    "    ## Wolfe criterion\n",
    "    def Wolfe(self, x, d):\n",
    "        alpha = 1\n",
    "        while self.f(x + alpha * d) > self.f(x) + 0.1 * alpha * self.grad_f(x)@d or self.grad_f(x + alpha * d)@d < 0.9 * self.grad_f(x)@d:\n",
    "            alpha = 0.5 * alpha\n",
    "            if alpha < 0.01:\n",
    "                break\n",
    "        return alpha\n",
    "    ## SR1 iteration scheme\n",
    "    def SR1(self, s, y, H):\n",
    "        H += ((s - H@y) @ (s - H@y)) / ((s - H@y)@y)\n",
    "        return H\n",
    "    ## BFGS method\n",
    "    def BFGS(self, s, y, H):\n",
    "        rho = 1/(s@y)\n",
    "        H = np.transpose(np.eye(m) - rho * np.outer(s,y))@H@(np.eye(m) - rho * np.outer(s,y)) + rho * s@s\n",
    "        return H\n",
    "    ## quasi Newton method by SR1\n",
    "    def solve(self):\n",
    "        ## init x_0 and H_0 (or B_0)\n",
    "        H = np.eye(m)\n",
    "        x = np.linspace(1,10,m)\n",
    "        # init the result of this method\n",
    "        result = np.zeros(self.step) \n",
    "        for k in range(self.step):\n",
    "            # calculate the k step's direction\n",
    "            d = -(H@self.grad_f(x))\n",
    "            # calculate the k step's size\n",
    "            alpha =self.Wolfe(x, d)\n",
    "            # calculate H_k+1\n",
    "            x_next = x + alpha * d\n",
    "            s = x_next - x\n",
    "            y = self.grad_f(x_next) - self.grad_f(x)\n",
    "            #H = self.SR1(s, y, H)\n",
    "            H = self.BFGS(s, y, H)\n",
    "            # store the result\n",
    "            result[k] = grad_f(x_next)@grad_f(x_next)\n",
    "            # init the next step\n",
    "            x = x_next\n",
    "        return result"
   ]
  },
  {
   "cell_type": "code",
   "execution_count": 76,
   "metadata": {},
   "outputs": [],
   "source": [
    "sol = quasi_Newton_method(f, grad_f, 100)"
   ]
  },
  {
   "cell_type": "code",
   "execution_count": 77,
   "metadata": {},
   "outputs": [
    {
     "name": "stderr",
     "output_type": "stream",
     "text": [
      "C:\\User\\Shen\\AppData\\Local\\Temp\\ipykernel_18896\\3625004407.py:10: RuntimeWarning: overflow encountered in exp\n",
      "  s += np.log(1+np.exp(-B[i]*A[i]@x))\n"
     ]
    }
   ],
   "source": [
    "r = sol.solve()"
   ]
  },
  {
   "cell_type": "code",
   "execution_count": 78,
   "metadata": {},
   "outputs": [
    {
     "data": {
      "text/plain": [
       "array([3.22979813e-03, 1.15024061e-03, 8.57196109e-04, 8.31738266e-04,\n",
       "       8.85079406e-04, 8.08482852e-04, 7.97760769e-04, 7.92909245e-04,\n",
       "       7.90958379e-04, 8.74860978e-04, 7.70256408e-04, 7.49779433e-04,\n",
       "       7.48066207e-04, 9.05167538e-04, 7.35995404e-04, 7.29724717e-04,\n",
       "       7.28315113e-04, 7.20345568e-04, 7.16654572e-04, 5.54765809e-02,\n",
       "       3.65272881e-03, 6.66150644e-04, 6.13302073e-04, 5.67786306e-04,\n",
       "       4.89680043e-04, 4.63877235e-04, 4.56727221e-04, 5.34073807e-04,\n",
       "       4.14803472e-04, 3.76083854e-04, 3.75421044e-04, 1.26086796e-04,\n",
       "       4.37002441e-05, 2.82437962e-05, 5.98120922e-04, 1.56370781e-05,\n",
       "       3.00154279e-05, 9.74096447e-06, 8.52443722e-06, 7.43810850e-06,\n",
       "       1.53666707e-04, 5.68815434e-06, 2.37601360e-04, 3.42681273e-06,\n",
       "       8.96910014e-06, 2.55182590e-06, 3.43055819e-06, 1.90744126e-06,\n",
       "       2.72490229e-06, 1.63612693e-06, 1.96816383e-06, 1.50299486e-06,\n",
       "       2.10453102e-06, 1.43436380e-06, 1.88177393e-06, 1.17243026e-06,\n",
       "       1.04297335e-06, 1.01522689e-06, 8.74750828e-07, 1.11147128e-06,\n",
       "       2.01636096e-06, 8.55005976e-07, 5.62999001e-07, 6.30673745e-07,\n",
       "       6.54033552e-07, 4.63723643e-07, 3.76681786e-07, 5.08953970e-07,\n",
       "       3.65660540e-07, 4.75167628e-07, 2.21456753e-07, 1.84420040e-07,\n",
       "       2.02765176e-07, 8.70380536e-08, 5.47878275e-08, 4.38839604e-08,\n",
       "       5.96765434e-08, 3.34388343e-08, 4.00108362e-08, 3.17742482e-08,\n",
       "       4.03663814e-08, 3.48285528e-08, 2.28227942e-08, 1.86669234e-08,\n",
       "       2.59900198e-08, 2.54796285e-08, 3.13468109e-08, 1.58768909e-08,\n",
       "       1.00567411e-08, 1.07950582e-08, 1.10539462e-08, 1.05101656e-08,\n",
       "       6.40734198e-09, 5.51667201e-09, 5.28076112e-09, 7.28690069e-09,\n",
       "       4.81384659e-09, 1.26153927e-08, 2.54365614e-09, 2.74724010e-09])"
      ]
     },
     "execution_count": 78,
     "metadata": {},
     "output_type": "execute_result"
    }
   ],
   "source": [
    "r"
   ]
  },
  {
   "cell_type": "code",
   "execution_count": null,
   "metadata": {},
   "outputs": [],
   "source": []
  }
 ],
 "metadata": {
  "kernelspec": {
   "display_name": "new",
   "language": "python",
   "name": "python3"
  },
  "language_info": {
   "codemirror_mode": {
    "name": "ipython",
    "version": 3
   },
   "file_extension": ".py",
   "mimetype": "text/x-python",
   "name": "python",
   "nbconvert_exporter": "python",
   "pygments_lexer": "ipython3",
   "version": "3.10.6"
  },
  "orig_nbformat": 4
 },
 "nbformat": 4,
 "nbformat_minor": 2
}
