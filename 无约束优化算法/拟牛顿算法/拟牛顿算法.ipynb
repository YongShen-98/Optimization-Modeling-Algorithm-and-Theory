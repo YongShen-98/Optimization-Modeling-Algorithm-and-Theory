{
 "cells": [
  {
   "attachments": {},
   "cell_type": "markdown",
   "metadata": {},
   "source": [
    "拟牛顿方法不计算海瑟矩阵$\\nabla^2f(x)$, 而是构造其近似矩阵$B^k$或者其逆的近似矩阵$H^k$. 我们希望$B^k$或者$H^k$保留了一些海瑟矩阵的性质, 例如使得$d^k$仍然为下降方向."
   ]
  },
  {
   "attachments": {},
   "cell_type": "markdown",
   "metadata": {},
   "source": [
    "### 割线方程\n",
    "设$f(x)$是二次可微的, 向量值函数$\\nabla f(x)$在点$x^{k+1}$处的近似为：\n",
    "$$\\nabla f(x)=\\nabla f(x^{k+1})+\\nabla^2f(x^{k+1})(x-x^{k+1})+O(||x-x^{k+1}||^2)$$\n",
    "令 $x = x^k, s^k = x^{k+1} − x^k$ 及 $y^k = \\nabla f(x^{k+1})− \\nabla f(x^k)$, 得到\n",
    "$$\\nabla^2f(x^{k+1})s^k+O(||s^k||^2)=y^k$$\n",
    "不考虑高阶项的时候, 我们可以得到海瑟矩阵的近似$B^{k+1}$满足：\n",
    "$$y^{k}=B^{k+1}s^{k}\\tag{1}$$\n",
    "或者其逆矩阵的近似矩阵$H^{k+1}$:\n",
    "$$s^{k}=H^{k+1}y^k\\tag{2}$$\n",
    "我们得到的近似矩阵$B^k$仍然需要保证它是正定的！对其两边同时左乘$(s^k)^T$得到$(s^k)^Ty^{k}=(s^k)^TB^{k+1}s^{k}$, 从而有条件:\n",
    "$$(s^k)^Ty^{k}>0\\tag{3}$$\n",
    "对于一般的目标函数, 采取Wolfe准则就会保证曲率条件(3)成立！理由：\n",
    "$$\\nabla f(x^{k+1})^Ts^k\\geq c_2\\nabla f(x^k)^Ts^k\\\\\n",
    "(y^k)^Ts^k\\geq(c_2-1)\\nabla f(x^{k})^Ts^k>0$$\n",
    "这是因为$c_2<1$并且$s^k=\\alpha_kd^k$是下降方向."
   ]
  },
  {
   "attachments": {},
   "cell_type": "markdown",
   "metadata": {},
   "source": [
    "### 一般框架 \n",
    "![](1.png)"
   ]
  },
  {
   "attachments": {},
   "cell_type": "markdown",
   "metadata": {},
   "source": [
    "### BFGS 公式\n",
    "我们这样计算近似矩阵,设$B^{k+1}=B^{k}+auu^{T}+bvv^T$, 其中$a,b\\in R$待定, 根据割线方程(1):\n",
    "$$B^{k+1}s^{k}=y^k=(B^{k}+auu^{T}+bvv^T)s^k$$\n",
    "整理一下就有：$$(au^Ts^k)u+(bv^Ts^T)v=y^k-B^ks^k$$\n",
    "直接让两边系数相等就可以得到$u,v,a,b$的公式了, 然后就可以得到$B^k$到$B^{k+1}$的更新公式\n",
    "$$B^{k+1}=B^{k}+\\frac{y^{k}(y^{k})^T}{(s^k)^Ty^k}-\\frac{B^ks^k(B^ks^k)^T}{(s^k)^TB^ks^k}.\\tag{4}$$\n",
    "在问题求解过程中，条件(3) 不一定会得到满足，此时应该使用 Wolfe 准则的线搜索来迫使条件(3)成立. 我们根据这个式子并且假设$H^k=(B^k)^{-1}$可以得到：\n",
    "$$H^{k+1}=(1-\\rho_ky^k(s^k)^T)^TH^k(I-\\rho_ky^k(s^k)^T)+\\rho_ks^k(s^k)^T\\tag{5}$$\n",
    "其中$\\rho_k=\\frac{1}{(s^k)^Ty^k}$\n",
    "### 有限内存的BFGS公式\n",
    "首先我们引入新的记号去表示$H^{k}$的更新公式：\n",
    "$$H^{k+1}=(V^k)^TH^kV^k+\\rho_ks^k(s^k)^T,\\tag{6}$$\n",
    "其中\n",
    "$$\\rho_k=\\frac{1}{(y^k)^Ts^k},\\quad V^k=I-\\rho_ky^k(s^k)^T$$\n",
    "更新(6)式可以发现它有递归的特点, 于是我们可以展开$m$次\n",
    "![](2.png)\n",
    "\n"
   ]
  },
  {
   "attachments": {},
   "cell_type": "markdown",
   "metadata": {},
   "source": [
    "很明显$H^{k-m}$还是无法显示求出来, 这个式子也不能无限展开. 我们只用一个近似的$H^{k-m}$去近似$H^{k-m}$, 这样这个式子就方便计算了. 这里给出一个算法.\n",
    "$H^{k-m}$的近似矩阵可以取成$\\gamma_k I$, 其中\n",
    "$$\\gamma_k=\\frac{(s^{k-1})^{T}y^{k-1}}{(y^{k-1})^Ty^{k-1}}$$"
   ]
  },
  {
   "attachments": {},
   "cell_type": "markdown",
   "metadata": {},
   "source": [
    "![](2.png)"
   ]
  },
  {
   "attachments": {},
   "cell_type": "markdown",
   "metadata": {},
   "source": [
    "很明显$H^{k-m}$还是无法显示求出来, 这个式子也不能无限展开. 我们只用一个近似的$H^{k-m}$去近似$H^{k-m}$, 这样这个式子就方便计算了. 这里给出一个算法.\n",
    "$H^{k-m}$的近似矩阵可以取成$\\gamma_k I$, 其中\n",
    "$$\\gamma_k=\\frac{(s^{k-1})^{T}y^{k-1}}{(y^{k-1})^Ty^{k-1}}$$"
   ]
  },
  {
   "attachments": {},
   "cell_type": "markdown",
   "metadata": {},
   "source": [
    "![](3.png)\n",
    "![](4.png)"
   ]
  },
  {
   "attachments": {},
   "cell_type": "markdown",
   "metadata": {},
   "source": [
    "### 应用举例\n",
    "#### 逻辑回归问题\n",
    "$$\\min_{x\\in R^n} l(x)= \\frac{1}{m}\\sum_{i=1}^{m}ln(1+exp(-b_ia_i^Tx))+\\lambda||x||_2^2$$\n"
   ]
  },
  {
   "cell_type": "code",
   "execution_count": 39,
   "metadata": {},
   "outputs": [],
   "source": [
    "import numpy as np\n",
    "import matplotlib.pyplot as plt"
   ]
  },
  {
   "cell_type": "code",
   "execution_count": 70,
   "metadata": {},
   "outputs": [],
   "source": [
    "m = 5\n",
    "n = 5\n",
    "A = np.random.randint(0, 10, (m,n))\n",
    "B = np.random.randint(0, 10, m)\n",
    "Lambda = 1/(100*m)\n",
    "\n",
    "def sum(x):\n",
    "    s = 0\n",
    "    for i in range(m):\n",
    "        s += np.log(1+np.exp(-B[i]*A[i]@x))\n",
    "    return s\n",
    "f = lambda x : (1/m)*sum(x) + Lambda*x@x\n",
    "\n",
    "def grad_sum(x):\n",
    "    s = 0\n",
    "    for i in range(m):\n",
    "        s += (1 - 1/(1+np.exp(-B[i]*A[i]@x))) * B[i] * A[i]\n",
    "    return s\n",
    "grad_f = lambda x : -(1/m)*grad_sum(x) + 2*Lambda*x"
   ]
  },
  {
   "cell_type": "code",
   "execution_count": 97,
   "metadata": {},
   "outputs": [],
   "source": [
    "class quasi_Newton_method():\n",
    "    def __init__(self, f, grad_f, step):\n",
    "        self.f = f\n",
    "        self.grad_f = grad_f\n",
    "        self.step = step\n",
    "    ## Wolfe criterion\n",
    "    def Wolfe(self, x, d):\n",
    "        alpha = 1\n",
    "        while self.f(x + alpha * d) > self.f(x) + 0.1 * alpha * self.grad_f(x)@d or self.grad_f(x + alpha * d)@d < 0.9 * self.grad_f(x)@d:\n",
    "            alpha = 0.5 * alpha\n",
    "            if alpha < 0.01:\n",
    "                break\n",
    "        return alpha\n",
    "    ## SR1 iteration scheme\n",
    "    def SR1(self, s, y, H):\n",
    "        H += ((s - H@y) @ (s - H@y)) / ((s - H@y)@y)\n",
    "        return H\n",
    "    ## BFGS method\n",
    "    def BFGS(self, s, y, H):\n",
    "        rho = 1/(s@y)\n",
    "        H = np.transpose(np.eye(m) - rho * np.outer(s,y))@H@(np.eye(m) - rho * np.outer(s,y)) + rho * s@s\n",
    "        return H\n",
    "    ## quasi Newton method by SR1\n",
    "    def solve(self):\n",
    "        ## init x_0 and H_0 (or B_0)\n",
    "        H = np.eye(m)\n",
    "        x = np.linspace(1,10,m)\n",
    "        # init the result of this method\n",
    "        result = np.zeros(self.step) \n",
    "        for k in range(self.step):\n",
    "            # calculate the k step's direction\n",
    "            d = -(H@self.grad_f(x))\n",
    "            # calculate the k step's size\n",
    "            alpha =self.Wolfe(x, d)\n",
    "            # calculate H_k+1\n",
    "            x_next = x + alpha * d\n",
    "            s = x_next - x\n",
    "            y = self.grad_f(x_next) - self.grad_f(x)\n",
    "            #H = self.SR1(s, y, H)\n",
    "            H = self.BFGS(s, y, H)\n",
    "            # store the result\n",
    "            result[k] = grad_f(x_next)@grad_f(x_next)\n",
    "            # init the next step\n",
    "            x = x_next\n",
    "        return result\n",
    "    \n",
    "    def double_while_BFGS(self, x, k, rho, s, y, _m, _H):\n",
    "        q = self.grad_f(x[k])\n",
    "        i = k - 1\n",
    "        j = 1\n",
    "        alpha = np.zeros(_m)\n",
    "        while(i >= k - _m):\n",
    "            alpha[_m-j] = rho[_m-j] * s[_m-j]@q\n",
    "            q = q - alpha[_m-j] * y[_m-j]\n",
    "            j = j + 1\n",
    "            i = i - 1\n",
    "        r = _H@q\n",
    "        for i in range(k-_m, k-1):\n",
    "            beta = rho[i-(k-_m)] * y[i-(k-_m)]@r\n",
    "            r += (alpha[i-(k-_m)] - beta) * s[i-(k-_m)]\n",
    "        return r\n",
    "\n",
    "    def solve_L_BFGS(self):\n",
    "        ## init x_0 and H_0 (or B_0)\n",
    "        H = np.eye(m)\n",
    "        x = np.zeros((self.step + 1, m))\n",
    "        x[0] = np.linspace(1,10,m)\n",
    "        # init the result of this method\n",
    "        result = np.zeros(self.step)\n",
    "        _m = 5 ## the length of L-BFGS\n",
    "        ## 0,...,_m step, use BFGS method\n",
    "        for k in range(_m):\n",
    "            # calculate the k step's direction\n",
    "            d = -(H@self.grad_f(x[k]))\n",
    "            # calculate the k step's size\n",
    "            alpha =self.Wolfe(x[k], d)\n",
    "            # calculate H_k+1\n",
    "            x[k+1] = x[k] + alpha * d\n",
    "            s = x[k+1] - x[k]\n",
    "            y = self.grad_f(x[k+1]) - self.grad_f(x[k])\n",
    "            #H = self.SR1(s, y, H)\n",
    "            H = self.BFGS(s, y, H)\n",
    "            # store the result\n",
    "            result[k] = grad_f(x[k+1])@grad_f(x[k+1])\n",
    "        ## init s, y and rho and set value\n",
    "        s = np.zeros((_m, m))\n",
    "        y = np.zeros((_m, m))\n",
    "        rho = np.zeros(_m)\n",
    "        for i in range(_m):\n",
    "            s[i] = x[i+1] - x[i]\n",
    "            y[i] = self.grad_f(x[i+1]) - self.grad_f(x[i])\n",
    "            rho[i] = 1/(y[i]@s[i])\n",
    "        ## double while L-BFGS method\n",
    "        for k in range(_m, self.step):\n",
    "            gamma = (s[_m-1]@y[_m-1])/(y[_m-1]@y[_m-1])\n",
    "            _H = gamma * np.eye(m) \n",
    "            d = -self.double_while_BFGS(x,k,rho,s,y,_m,_H)            \n",
    "            alpha = self.Wolfe(x[k], d)\n",
    "            x[k+1] = x[k] + alpha * d\n",
    "            ## update s, y and rho\n",
    "            for i in range(_m-1):\n",
    "                s[i] = s[i+1]\n",
    "                y[i] = y[i+1]\n",
    "            s[_m-1] = x[k+1] - x[k]\n",
    "            y[_m-1] = self.grad_f(x[k+1]) - self.grad_f(x[k])\n",
    "            rho = np.roll(rho, -1)\n",
    "            rho[_m-1] = 1/(s[_m-1]@y[_m-1])\n",
    "            result[k] = grad_f(x[k+1])@grad_f(x[k+1])\n",
    "        return result\n"
   ]
  },
  {
   "cell_type": "code",
   "execution_count": 101,
   "metadata": {},
   "outputs": [
    {
     "name": "stderr",
     "output_type": "stream",
     "text": [
      "C:\\User\\Shen\\AppData\\Local\\Temp\\ipykernel_18256\\3625004407.py:10: RuntimeWarning: overflow encountered in exp\n",
      "  s += np.log(1+np.exp(-B[i]*A[i]@x))\n"
     ]
    }
   ],
   "source": [
    "step = 200\n",
    "sol = quasi_Newton_method(f, grad_f, step)\n",
    "r = sol.solve()\n",
    "r2 = sol.solve_L_BFGS()"
   ]
  },
  {
   "cell_type": "code",
   "execution_count": 102,
   "metadata": {},
   "outputs": [
    {
     "data": {
      "text/plain": [
       "[<matplotlib.lines.Line2D at 0x2390a0faad0>]"
      ]
     },
     "execution_count": 102,
     "metadata": {},
     "output_type": "execute_result"
    },
    {
     "data": {
      "image/png": "[encoded data removed]",
      "text/plain": [
       "<Figure size 640x480 with 1 Axes>"
      ]
     },
     "metadata": {},
     "output_type": "display_data"
    }
   ],
   "source": [
    "plt.plot(np.linspace(1,step,step), r)"
   ]
  },
  {
   "cell_type": "code",
   "execution_count": 103,
   "metadata": {},
   "outputs": [
    {
     "data": {
      "text/plain": [
       "[<matplotlib.lines.Line2D at 0x2390a12f1f0>]"
      ]
     },
     "execution_count": 103,
     "metadata": {},
     "output_type": "execute_result"
    },
    {
     "data": {
      "image/png": "[encoded data removed]",
      "text/plain": [
       "<Figure size 640x480 with 1 Axes>"
      ]
     },
     "metadata": {},
     "output_type": "display_data"
    }
   ],
   "source": [
    "plt.plot(np.linspace(1,step,step), r2)"
   ]
  },
  {
   "attachments": {},
   "cell_type": "markdown",
   "metadata": {},
   "source": [
    "根据输出结果可以看到，使用双循环算法的结果还可以。这里纵坐标就是书中的$||\\nabla l(x^k)||_{2}$"
   ]
  },
  {
   "cell_type": "code",
   "execution_count": 105,
   "metadata": {},
   "outputs": [
    {
     "data": {
      "text/plain": [
       "array([3.22979813e-03, 1.15024059e-03, 1.14289076e-02, 9.12704791e-04,\n",
       "       7.80588707e-04, 8.53673424e-06, 1.01067910e-04, 2.99944583e-06,\n",
       "       1.55476873e-06, 1.70225939e-06, 2.57882191e-06, 1.11888677e-07,\n",
       "       4.52362690e-08, 1.45482441e-08, 1.12199584e-08, 1.11713288e-09,\n",
       "       2.44167588e-10, 3.16122912e-10, 6.59265661e-12, 4.44113807e-12,\n",
       "       1.51730203e-13, 5.93150157e-15, 5.77322736e-16, 3.97075268e-16,\n",
       "       1.50947370e-17, 1.02612687e-18, 6.63016420e-19, 1.51899716e-19,\n",
       "       4.68346622e-19, 4.61547971e-19, 5.31187290e-19, 4.09036499e-19,\n",
       "       4.08889825e-19, 6.22015351e-22, 9.08921360e-24, 9.05602001e-24,\n",
       "       2.11703382e-23, 1.75015225e-23, 1.74228718e-23, 1.72163990e-23,\n",
       "       1.71465757e-23, 2.17332718e-24, 3.08652608e-26, 9.97038358e-27,\n",
       "       9.68809278e-27, 3.99171530e-27, 4.00931348e-27, 2.83484049e-27,\n",
       "       1.84949561e-27, 1.84934363e-27, 3.67658513e-28, 3.66744707e-28,\n",
       "       3.66059760e-28, 3.62892125e-28, 3.04746866e-28, 3.02672584e-28,\n",
       "       3.40407372e-28, 2.93777093e-28, 1.39368197e-27, 1.00780585e-27,\n",
       "       8.91340570e-28, 1.75562197e-27, 1.97067233e-27, 1.80376697e-27,\n",
       "       7.06847404e-28, 5.45807658e-28, 5.13133890e-28, 4.84378786e-28,\n",
       "       4.84073522e-28, 3.89999029e-28, 4.89706554e-28, 4.86604519e-28,\n",
       "       3.94396572e-28, 2.50014219e-28, 2.49870646e-28, 2.48281864e-28,\n",
       "       2.48120828e-28, 2.44760734e-28, 2.11498032e-28, 2.08670716e-28,\n",
       "       2.34220698e-28, 2.31420566e-28, 1.50301981e-28, 1.53056591e-28,\n",
       "       1.38926070e-28, 1.37540887e-28, 1.37204041e-28, 7.38014968e-29,\n",
       "       7.38311616e-29, 8.60066522e-29, 4.73196011e-26, 4.73602943e-26,\n",
       "       4.55675112e-26, 1.29484528e-25, 1.29184981e-25, 8.19077865e-27,\n",
       "       8.07875351e-27, 8.97698669e-27, 6.12553201e-27, 3.11462510e-27,\n",
       "       3.06212118e-27, 1.84359730e-27, 1.84092051e-27, 9.63285604e-28,\n",
       "       4.61272734e-28, 4.58411945e-28, 4.08814780e-28, 3.45661973e-28,\n",
       "       3.23644494e-28, 2.89690636e-28, 1.13389685e-27, 1.36010551e-27,\n",
       "       1.30177837e-27, 1.15902308e-27, 1.18862441e-27, 1.18789465e-27,\n",
       "       1.14981934e-27, 2.11192686e-26, 2.11171346e-26, 1.71574277e-25,\n",
       "       1.73697844e-25, 2.36136353e-25, 2.32498490e-25, 2.32496325e-25,\n",
       "       1.20184032e-25, 1.19633985e-25, 5.54960196e-27, 5.40334825e-27,\n",
       "       5.89982851e-27, 5.53592261e-27, 2.97991328e-27, 2.97728731e-27,\n",
       "       5.31193941e-27, 1.10494058e-27, 1.10489107e-27, 9.31600970e-29,\n",
       "       9.26469017e-29, 7.90900682e-29, 7.85015807e-29, 7.86117432e-29,\n",
       "       5.10358889e-29, 2.63598792e-28, 3.11345845e-28, 2.42834726e-28,\n",
       "       1.85339320e-28, 1.84893675e-28, 1.66535208e-28, 1.37531735e-28,\n",
       "       2.77269444e-28, 2.56950500e-28, 2.43272325e-28, 6.89339935e-28,\n",
       "       6.77730238e-28, 6.75192500e-28, 5.30333926e-28, 4.86079521e-28,\n",
       "       5.25471903e-28, 5.24775263e-28, 4.65911537e-28, 4.24799625e-28,\n",
       "       5.78461398e-28, 5.77614815e-28, 5.29956550e-28, 5.28509358e-28,\n",
       "       5.28136787e-28, 4.82906394e-28, 2.04370654e-27, 2.04378061e-27,\n",
       "       1.95359950e-27, 1.61797796e-27, 1.61656320e-27, 4.15113198e-27,\n",
       "       7.11362090e-27, 6.92216436e-27, 1.11647499e-26, 1.70865796e-26,\n",
       "       1.65655161e-26, 1.32168832e-26, 6.28975228e-27, 6.28701122e-27,\n",
       "       4.88066330e-27, 4.87680390e-27, 4.67766629e-27, 1.16342781e-28,\n",
       "       8.80206115e-29, 8.79832089e-29, 8.71558610e-29, 7.54956995e-29,\n",
       "       3.11600459e-29, 1.60923813e-27, 1.60931880e-27, 9.81751959e-28,\n",
       "       9.81630015e-28, 8.94175694e-28, 8.92364867e-28, 8.27072914e-28,\n",
       "       1.04888811e-29, 1.04771988e-29, 1.04739911e-29, 3.53395487e-30])"
      ]
     },
     "execution_count": 105,
     "metadata": {},
     "output_type": "execute_result"
    }
   ],
   "source": [
    "r2"
   ]
  }
 ],
 "metadata": {
  "kernelspec": {
   "display_name": "new",
   "language": "python",
   "name": "python3"
  },
  "language_info": {
   "codemirror_mode": {
    "name": "ipython",
    "version": 3
   },
   "file_extension": ".py",
   "mimetype": "text/x-python",
   "name": "python",
   "nbconvert_exporter": "python",
   "pygments_lexer": "ipython3",
   "version": "3.10.6"
  },
  "orig_nbformat": 4
 },
 "nbformat": 4,
 "nbformat_minor": 2
}
